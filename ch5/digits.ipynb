{
 "cells": [
  {
   "cell_type": "code",
   "execution_count": 41,
   "metadata": {
    "collapsed": false
   },
   "outputs": [
    {
     "name": "stdout",
     "output_type": "stream",
     "text": [
      "Overwriting digits.py\n"
     ]
    }
   ],
   "source": [
    "def interesting(base):\n",
    "    print 'interesting(',base,')'\n",
    "    digits = []\n",
    "    # for all digits choose b,\n",
    "    #   set 3 digit number with mod b == 0\n",
    "    #   check if sum mod b == 0\n",
    "    #   if pass, add to digits\n",
    "    for b in range(2,base):\n",
    "        #print '... ',b,'/',base\n",
    "        valid = True\n",
    "        for d1 in range(0,base):\n",
    "            for d2 in range(0,base):\n",
    "                for d3 in range(0,base):\n",
    "                    n = d1*base**2 + d2*base + d3\n",
    "                    if n % b == 0 and (d1+d2+d3)%b != 0:\n",
    "                        valid=False\n",
    "                        break\n",
    "                if not valid: break\n",
    "            if not valid: break\n",
    "        if valid :\n",
    "                #print \"!\",b\n",
    "                digits.append(b)\n",
    "    return digits\n",
    "\n",
    "if __name__ == '__main__':\n",
    "    assert [ 3, 9 ] == interesting(10)\n",
    "    assert [ 2 ] == interesting(3)\n",
    "    assert [ 2,4,8 ] == interesting(9)\n",
    "    assert [5,25] == interesting(26)\n",
    "    assert [29] == interesting(30)"
   ]
  },
  {
   "cell_type": "code",
   "execution_count": null,
   "metadata": {
    "collapsed": true
   },
   "outputs": [],
   "source": []
  }
 ],
 "metadata": {
  "kernelspec": {
   "display_name": "Python 2",
   "language": "python",
   "name": "python2"
  },
  "language_info": {
   "codemirror_mode": {
    "name": "ipython",
    "version": 2
   },
   "file_extension": ".py",
   "mimetype": "text/x-python",
   "name": "python",
   "nbconvert_exporter": "python",
   "pygments_lexer": "ipython2",
   "version": "2.7.11"
  }
 },
 "nbformat": 4,
 "nbformat_minor": 0
}
